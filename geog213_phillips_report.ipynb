{
 "cells": [
  {
   "cell_type": "code",
   "execution_count": 1,
   "metadata": {
    "vscode": {
     "languageId": "plaintext"
    }
   },
   "outputs": [],
   "source": [
    "from utils import *\n",
    "import planetary_computer\n",
    "import stackstac\n",
    "import rioxarray as rxr\n",
    "import xarray as xr\n",
    "from rioxarray.merge import merge_datasets"
   ]
  },
  {
   "cell_type": "code",
   "execution_count": null,
   "metadata": {},
   "outputs": [],
   "source": [
    "from dask.distributed import Client as DaskClient, LocalCluster\n",
    "cluster = LocalCluster()\n",
    "client = DaskClient(cluster)\n",
    "client"
   ]
  },
  {
   "cell_type": "code",
   "execution_count": 3,
   "metadata": {},
   "outputs": [],
   "source": [
    "from pystac_client import Client as PystacClient\n",
    "api_url = \"https://earth-search.aws.element84.com/v1\"\n",
    "stac_client = PystacClient.open(api_url)"
   ]
  },
  {
   "cell_type": "code",
   "execution_count": 4,
   "metadata": {},
   "outputs": [],
   "source": [
    "bbox = (-121.45522382606673, 39.9781724447063, -119.99678876747298, 40.81484858063401)"
   ]
  },
  {
   "cell_type": "code",
   "execution_count": 5,
   "metadata": {},
   "outputs": [],
   "source": [
    "pre_datetime = \"2021-07-08\"\n",
    "august_datetime = \"2021-08-14\"\n",
    "september_datetime = \"2021-09-11\"\n",
    "october_datetime = \"2021-10-16\" \n",
    "post_datetime = \"2021-10-28\""
   ]
  },
  {
   "cell_type": "code",
   "execution_count": 6,
   "metadata": {},
   "outputs": [
    {
     "name": "stderr",
     "output_type": "stream",
     "text": [
      "/opt/conda/envs/geog213-final/lib/python3.13/site-packages/pystac_client/item_search.py:850: FutureWarning: get_all_items() is deprecated, use item_collection() instead.\n",
      "  warnings.warn(\n"
     ]
    },
    {
     "name": "stdout",
     "output_type": "stream",
     "text": [
      "8\n",
      "<pystac.item_collection.ItemCollection object at 0x7fe854701550>\n",
      "nir ['https://sentinel-cogs.s3.us-west-2.amazonaws.com/sentinel-s2-l2a-cogs/10/T/FK/2021/7/S2A_10TFK_20210708_0_L2A/B08.tif', 'https://sentinel-cogs.s3.us-west-2.amazonaws.com/sentinel-s2-l2a-cogs/10/T/FK/2021/7/S2A_10TFK_20210708_1_L2A/B08.tif', 'https://sentinel-cogs.s3.us-west-2.amazonaws.com/sentinel-s2-l2a-cogs/10/T/GK/2021/7/S2A_10TGK_20210708_1_L2A/B08.tif', 'https://sentinel-cogs.s3.us-west-2.amazonaws.com/sentinel-s2-l2a-cogs/11/T/KE/2021/7/S2A_11TKE_20210708_1_L2A/B08.tif', 'https://sentinel-cogs.s3.us-west-2.amazonaws.com/sentinel-s2-l2a-cogs/10/T/FL/2021/7/S2A_10TFL_20210708_0_L2A/B08.tif', 'https://sentinel-cogs.s3.us-west-2.amazonaws.com/sentinel-s2-l2a-cogs/10/T/FL/2021/7/S2A_10TFL_20210708_1_L2A/B08.tif', 'https://sentinel-cogs.s3.us-west-2.amazonaws.com/sentinel-s2-l2a-cogs/10/T/GL/2021/7/S2A_10TGL_20210708_0_L2A/B08.tif', 'https://sentinel-cogs.s3.us-west-2.amazonaws.com/sentinel-s2-l2a-cogs/10/T/GL/2021/7/S2A_10TGL_20210708_1_L2A/B08.tif']\n",
      "swir ['https://sentinel-cogs.s3.us-west-2.amazonaws.com/sentinel-s2-l2a-cogs/10/T/FK/2021/7/S2A_10TFK_20210708_0_L2A/B11.tif', 'https://sentinel-cogs.s3.us-west-2.amazonaws.com/sentinel-s2-l2a-cogs/10/T/FK/2021/7/S2A_10TFK_20210708_1_L2A/B11.tif', 'https://sentinel-cogs.s3.us-west-2.amazonaws.com/sentinel-s2-l2a-cogs/10/T/GK/2021/7/S2A_10TGK_20210708_1_L2A/B11.tif', 'https://sentinel-cogs.s3.us-west-2.amazonaws.com/sentinel-s2-l2a-cogs/11/T/KE/2021/7/S2A_11TKE_20210708_1_L2A/B11.tif', 'https://sentinel-cogs.s3.us-west-2.amazonaws.com/sentinel-s2-l2a-cogs/10/T/FL/2021/7/S2A_10TFL_20210708_0_L2A/B11.tif', 'https://sentinel-cogs.s3.us-west-2.amazonaws.com/sentinel-s2-l2a-cogs/10/T/FL/2021/7/S2A_10TFL_20210708_1_L2A/B11.tif', 'https://sentinel-cogs.s3.us-west-2.amazonaws.com/sentinel-s2-l2a-cogs/10/T/GL/2021/7/S2A_10TGL_20210708_0_L2A/B11.tif', 'https://sentinel-cogs.s3.us-west-2.amazonaws.com/sentinel-s2-l2a-cogs/10/T/GL/2021/7/S2A_10TGL_20210708_1_L2A/B11.tif']\n"
     ]
    }
   ],
   "source": [
    "pre = FindBoxScene(pre_datetime, bbox)\n",
    "print(pre)\n",
    "nir_urls = gen_stac_asset_urls(pre, 'nir')\n",
    "swir_urls = gen_stac_asset_urls(pre, 'swir16')\n",
    "\n",
    "print('nir', nir_urls)\n",
    "print('swir', swir_urls)"
   ]
  },
  {
   "cell_type": "code",
   "execution_count": 7,
   "metadata": {},
   "outputs": [
    {
     "data": {
      "text/plain": [
       "[<xarray.Dataset> Size: 241MB\n",
       " Dimensions:      (band: 1, x: 10980, y: 10980)\n",
       " Coordinates:\n",
       "   * band         (band) int64 8B 1\n",
       "   * x            (x) float64 88kB 6e+05 6e+05 6e+05 ... 7.098e+05 7.098e+05\n",
       "   * y            (y) float64 88kB 4.5e+06 4.5e+06 4.5e+06 ... 4.39e+06 4.39e+06\n",
       "     spatial_ref  int64 8B 0\n",
       " Data variables:\n",
       "     nir          (band, y, x) uint16 241MB dask.array<chunksize=(1, 6111, 10980), meta=np.ndarray>,\n",
       " <xarray.Dataset> Size: 241MB\n",
       " Dimensions:      (band: 1, x: 10980, y: 10980)\n",
       " Coordinates:\n",
       "   * band         (band) int64 8B 1\n",
       "   * x            (x) float64 88kB 6e+05 6e+05 6e+05 ... 7.098e+05 7.098e+05\n",
       "   * y            (y) float64 88kB 4.5e+06 4.5e+06 4.5e+06 ... 4.39e+06 4.39e+06\n",
       "     spatial_ref  int64 8B 0\n",
       " Data variables:\n",
       "     nir          (band, y, x) uint16 241MB dask.array<chunksize=(1, 6111, 10980), meta=np.ndarray>,\n",
       " <xarray.Dataset> Size: 241MB\n",
       " Dimensions:      (band: 1, x: 10980, y: 10980)\n",
       " Coordinates:\n",
       "   * band         (band) int64 8B 1\n",
       "   * x            (x) float64 88kB 7e+05 7e+05 7e+05 ... 8.097e+05 8.098e+05\n",
       "   * y            (y) float64 88kB 4.5e+06 4.5e+06 4.5e+06 ... 4.39e+06 4.39e+06\n",
       "     spatial_ref  int64 8B 0\n",
       " Data variables:\n",
       "     nir          (band, y, x) uint16 241MB dask.array<chunksize=(1, 6111, 10980), meta=np.ndarray>,\n",
       " <xarray.Dataset> Size: 241MB\n",
       " Dimensions:      (band: 1, x: 10980, y: 10980)\n",
       " Coordinates:\n",
       "   * band         (band) int64 8B 1\n",
       "   * x            (x) float64 88kB 2e+05 2e+05 2e+05 ... 3.098e+05 3.098e+05\n",
       "   * y            (y) float64 88kB 4.5e+06 4.5e+06 4.5e+06 ... 4.39e+06 4.39e+06\n",
       "     spatial_ref  int64 8B 0\n",
       " Data variables:\n",
       "     nir          (band, y, x) uint16 241MB dask.array<chunksize=(1, 6111, 10980), meta=np.ndarray>,\n",
       " <xarray.Dataset> Size: 241MB\n",
       " Dimensions:      (band: 1, x: 10980, y: 10980)\n",
       " Coordinates:\n",
       "   * band         (band) int64 8B 1\n",
       "   * x            (x) float64 88kB 6e+05 6e+05 6e+05 ... 7.098e+05 7.098e+05\n",
       "   * y            (y) float64 88kB 4.6e+06 4.6e+06 4.6e+06 ... 4.49e+06 4.49e+06\n",
       "     spatial_ref  int64 8B 0\n",
       " Data variables:\n",
       "     nir          (band, y, x) uint16 241MB dask.array<chunksize=(1, 6111, 10980), meta=np.ndarray>,\n",
       " <xarray.Dataset> Size: 241MB\n",
       " Dimensions:      (band: 1, x: 10980, y: 10980)\n",
       " Coordinates:\n",
       "   * band         (band) int64 8B 1\n",
       "   * x            (x) float64 88kB 6e+05 6e+05 6e+05 ... 7.098e+05 7.098e+05\n",
       "   * y            (y) float64 88kB 4.6e+06 4.6e+06 4.6e+06 ... 4.49e+06 4.49e+06\n",
       "     spatial_ref  int64 8B 0\n",
       " Data variables:\n",
       "     nir          (band, y, x) uint16 241MB dask.array<chunksize=(1, 6111, 10980), meta=np.ndarray>,\n",
       " <xarray.Dataset> Size: 241MB\n",
       " Dimensions:      (band: 1, x: 10980, y: 10980)\n",
       " Coordinates:\n",
       "   * band         (band) int64 8B 1\n",
       "   * x            (x) float64 88kB 7e+05 7e+05 7e+05 ... 8.097e+05 8.098e+05\n",
       "   * y            (y) float64 88kB 4.6e+06 4.6e+06 4.6e+06 ... 4.49e+06 4.49e+06\n",
       "     spatial_ref  int64 8B 0\n",
       " Data variables:\n",
       "     nir          (band, y, x) uint16 241MB dask.array<chunksize=(1, 6111, 10980), meta=np.ndarray>,\n",
       " <xarray.Dataset> Size: 241MB\n",
       " Dimensions:      (band: 1, x: 10980, y: 10980)\n",
       " Coordinates:\n",
       "   * band         (band) int64 8B 1\n",
       "   * x            (x) float64 88kB 7e+05 7e+05 7e+05 ... 8.097e+05 8.098e+05\n",
       "   * y            (y) float64 88kB 4.6e+06 4.6e+06 4.6e+06 ... 4.49e+06 4.49e+06\n",
       "     spatial_ref  int64 8B 0\n",
       " Data variables:\n",
       "     nir          (band, y, x) uint16 241MB dask.array<chunksize=(1, 6111, 10980), meta=np.ndarray>]"
      ]
     },
     "execution_count": 7,
     "metadata": {},
     "output_type": "execute_result"
    }
   ],
   "source": [
    "nir_datasets = [\n",
    "    rxr.open_rasterio(url, lock=False, chunks=(1, 'auto', -1)).to_dataset(name=\"nir\") for url in nir_urls\n",
    "]\n",
    "\n",
    "nir_datasets"
   ]
  },
  {
   "cell_type": "code",
   "execution_count": 8,
   "metadata": {},
   "outputs": [
    {
     "data": {
      "text/plain": [
       "[<xarray.Dataset> Size: 60MB\n",
       " Dimensions:      (band: 1, x: 5490, y: 5490)\n",
       " Coordinates:\n",
       "   * band         (band) int64 8B 1\n",
       "   * x            (x) float64 44kB 6e+05 6e+05 6e+05 ... 7.098e+05 7.098e+05\n",
       "   * y            (y) float64 44kB 4.5e+06 4.5e+06 4.5e+06 ... 4.39e+06 4.39e+06\n",
       "     spatial_ref  int64 8B 0\n",
       " Data variables:\n",
       "     swir         (band, y, x) uint16 60MB dask.array<chunksize=(1, 5490, 5490), meta=np.ndarray>,\n",
       " <xarray.Dataset> Size: 60MB\n",
       " Dimensions:      (band: 1, x: 5490, y: 5490)\n",
       " Coordinates:\n",
       "   * band         (band) int64 8B 1\n",
       "   * x            (x) float64 44kB 6e+05 6e+05 6e+05 ... 7.098e+05 7.098e+05\n",
       "   * y            (y) float64 44kB 4.5e+06 4.5e+06 4.5e+06 ... 4.39e+06 4.39e+06\n",
       "     spatial_ref  int64 8B 0\n",
       " Data variables:\n",
       "     swir         (band, y, x) uint16 60MB dask.array<chunksize=(1, 5490, 5490), meta=np.ndarray>,\n",
       " <xarray.Dataset> Size: 60MB\n",
       " Dimensions:      (band: 1, x: 5490, y: 5490)\n",
       " Coordinates:\n",
       "   * band         (band) int64 8B 1\n",
       "   * x            (x) float64 44kB 7e+05 7e+05 7e+05 ... 8.097e+05 8.098e+05\n",
       "   * y            (y) float64 44kB 4.5e+06 4.5e+06 4.5e+06 ... 4.39e+06 4.39e+06\n",
       "     spatial_ref  int64 8B 0\n",
       " Data variables:\n",
       "     swir         (band, y, x) uint16 60MB dask.array<chunksize=(1, 5490, 5490), meta=np.ndarray>,\n",
       " <xarray.Dataset> Size: 60MB\n",
       " Dimensions:      (band: 1, x: 5490, y: 5490)\n",
       " Coordinates:\n",
       "   * band         (band) int64 8B 1\n",
       "   * x            (x) float64 44kB 2e+05 2e+05 2e+05 ... 3.098e+05 3.098e+05\n",
       "   * y            (y) float64 44kB 4.5e+06 4.5e+06 4.5e+06 ... 4.39e+06 4.39e+06\n",
       "     spatial_ref  int64 8B 0\n",
       " Data variables:\n",
       "     swir         (band, y, x) uint16 60MB dask.array<chunksize=(1, 5490, 5490), meta=np.ndarray>,\n",
       " <xarray.Dataset> Size: 60MB\n",
       " Dimensions:      (band: 1, x: 5490, y: 5490)\n",
       " Coordinates:\n",
       "   * band         (band) int64 8B 1\n",
       "   * x            (x) float64 44kB 6e+05 6e+05 6e+05 ... 7.098e+05 7.098e+05\n",
       "   * y            (y) float64 44kB 4.6e+06 4.6e+06 4.6e+06 ... 4.49e+06 4.49e+06\n",
       "     spatial_ref  int64 8B 0\n",
       " Data variables:\n",
       "     swir         (band, y, x) uint16 60MB dask.array<chunksize=(1, 5490, 5490), meta=np.ndarray>,\n",
       " <xarray.Dataset> Size: 60MB\n",
       " Dimensions:      (band: 1, x: 5490, y: 5490)\n",
       " Coordinates:\n",
       "   * band         (band) int64 8B 1\n",
       "   * x            (x) float64 44kB 6e+05 6e+05 6e+05 ... 7.098e+05 7.098e+05\n",
       "   * y            (y) float64 44kB 4.6e+06 4.6e+06 4.6e+06 ... 4.49e+06 4.49e+06\n",
       "     spatial_ref  int64 8B 0\n",
       " Data variables:\n",
       "     swir         (band, y, x) uint16 60MB dask.array<chunksize=(1, 5490, 5490), meta=np.ndarray>,\n",
       " <xarray.Dataset> Size: 60MB\n",
       " Dimensions:      (band: 1, x: 5490, y: 5490)\n",
       " Coordinates:\n",
       "   * band         (band) int64 8B 1\n",
       "   * x            (x) float64 44kB 7e+05 7e+05 7e+05 ... 8.097e+05 8.098e+05\n",
       "   * y            (y) float64 44kB 4.6e+06 4.6e+06 4.6e+06 ... 4.49e+06 4.49e+06\n",
       "     spatial_ref  int64 8B 0\n",
       " Data variables:\n",
       "     swir         (band, y, x) uint16 60MB dask.array<chunksize=(1, 5490, 5490), meta=np.ndarray>,\n",
       " <xarray.Dataset> Size: 60MB\n",
       " Dimensions:      (band: 1, x: 5490, y: 5490)\n",
       " Coordinates:\n",
       "   * band         (band) int64 8B 1\n",
       "   * x            (x) float64 44kB 7e+05 7e+05 7e+05 ... 8.097e+05 8.098e+05\n",
       "   * y            (y) float64 44kB 4.6e+06 4.6e+06 4.6e+06 ... 4.49e+06 4.49e+06\n",
       "     spatial_ref  int64 8B 0\n",
       " Data variables:\n",
       "     swir         (band, y, x) uint16 60MB dask.array<chunksize=(1, 5490, 5490), meta=np.ndarray>]"
      ]
     },
     "execution_count": 8,
     "metadata": {},
     "output_type": "execute_result"
    }
   ],
   "source": [
    "swir_datasets = [\n",
    "    rxr.open_rasterio(url, lock=False, chunks=(1, 'auto', -1)).to_dataset(name=\"swir\") for url in swir_urls\n",
    "]\n",
    "\n",
    "swir_datasets"
   ]
  },
  {
   "cell_type": "code",
   "execution_count": null,
   "metadata": {},
   "outputs": [],
   "source": [
    "mosaic_nir = merge_datasets(nir_datasets)\n",
    "mosaic_swir = merge_datasets(swir_datasets)"
   ]
  },
  {
   "cell_type": "code",
   "execution_count": 17,
   "metadata": {},
   "outputs": [
    {
     "name": "stdout",
     "output_type": "stream",
     "text": [
      "Mosaic CRS: EPSG:32610\n"
     ]
    }
   ],
   "source": [
    "print(\"Mosaic CRS:\", mosaic_nir.rio.crs)"
   ]
  },
  {
   "cell_type": "code",
   "execution_count": 18,
   "metadata": {},
   "outputs": [
    {
     "name": "stdout",
     "output_type": "stream",
     "text": [
      "Original mosaic bounds: (600000.0, 4387360.0, 824670.0, 4600020.0)\n",
      "bbox_geometry: {'type': 'Polygon', 'coordinates': [[[-121.45522382606673, 39.9781724447063], [-121.45522382606673, 40.81484858063401], [-119.99678876747298, 40.81484858063401], [-119.99678876747298, 39.9781724447063], [-121.45522382606673, 39.9781724447063]]]}\n"
     ]
    }
   ],
   "source": [
    "print(\"Original mosaic bounds:\", mosaic_nir.rio.bounds())\n",
    "\n",
    "print(\"bbox_geometry:\", bbox_geometry)\n"
   ]
  },
  {
   "cell_type": "code",
   "execution_count": 14,
   "metadata": {},
   "outputs": [],
   "source": [
    "bbox_geometry = {\n",
    "    'type': 'Polygon',\n",
    "    'coordinates': [[\n",
    "        [-121.45522382606673, 39.9781724447063],\n",
    "        [-121.45522382606673, 40.81484858063401],\n",
    "        [-119.99678876747298, 40.81484858063401],\n",
    "        [-119.99678876747298, 39.9781724447063],\n",
    "        [-121.45522382606673, 39.9781724447063]\n",
    "    ]]\n",
    "}"
   ]
  },
  {
   "cell_type": "code",
   "execution_count": 21,
   "metadata": {},
   "outputs": [
    {
     "name": "stdout",
     "output_type": "stream",
     "text": [
      "UTM coordinates: {'type': 'Polygon', 'coordinates': [[[631906.4285081971, 4426477.211218987], [630283.2475873799, 4519351.933880895], [753297.2287633473, 4522544.949250258], [756455.5246679303, 4429655.072561484], [631906.4285081971, 4426477.211218987]]]}\n"
     ]
    }
   ],
   "source": [
    "from pyproj import Transformer\n",
    "import numpy as np\n",
    "\n",
    "# Create transformer\n",
    "transformer = Transformer.from_crs(\"EPSG:4326\", \"EPSG:32610\", always_xy=True)\n",
    "\n",
    "# Original coordinates from your bbox_geometry\n",
    "coords = bbox_geometry['coordinates'][0]\n",
    "\n",
    "# Transform each coordinate pair\n",
    "utm_coords = []\n",
    "for lon, lat in coords:\n",
    "    x, y = transformer.transform(lon, lat)\n",
    "    utm_coords.append([x, y])\n",
    "\n",
    "# Create new geometry dictionary in UTM\n",
    "bbox_geometry_utm = {\n",
    "    'type': 'Polygon',\n",
    "    'coordinates': [utm_coords]\n",
    "}\n",
    "\n",
    "# Print transformed coordinates to verify\n",
    "print(\"UTM coordinates:\", bbox_geometry_utm)"
   ]
  },
  {
   "cell_type": "code",
   "execution_count": 22,
   "metadata": {},
   "outputs": [
    {
     "ename": "NoDataInBounds",
     "evalue": "No data found in bounds. Data variable: nir",
     "output_type": "error",
     "traceback": [
      "\u001b[0;31m---------------------------------------------------------------------------\u001b[0m",
      "\u001b[0;31mNoDataInBounds\u001b[0m                            Traceback (most recent call last)",
      "Cell \u001b[0;32mIn[22], line 2\u001b[0m\n\u001b[1;32m      1\u001b[0m mosaic_nir\u001b[38;5;241m.\u001b[39mnir\u001b[38;5;241m.\u001b[39mrio\u001b[38;5;241m.\u001b[39mto_raster(\u001b[38;5;124m\"\u001b[39m\u001b[38;5;124mnir_mosaic.tif\u001b[39m\u001b[38;5;124m\"\u001b[39m)\n\u001b[0;32m----> 2\u001b[0m mosaic_nir \u001b[38;5;241m=\u001b[39m \u001b[43mmosaic_nir\u001b[49m\u001b[38;5;241;43m.\u001b[39;49m\u001b[43mrio\u001b[49m\u001b[38;5;241;43m.\u001b[39;49m\u001b[43mclip\u001b[49m\u001b[43m(\u001b[49m\u001b[43mbbox_geometry\u001b[49m\u001b[43m,\u001b[49m\u001b[43m \u001b[49m\u001b[43mcrs\u001b[49m\u001b[38;5;241;43m=\u001b[39;49m\u001b[38;5;241;43m4326\u001b[39;49m\u001b[43m)\u001b[49m\n",
      "File \u001b[0;32m/opt/conda/envs/geog213-final/lib/python3.13/site-packages/rioxarray/raster_dataset.py:390\u001b[0m, in \u001b[0;36mRasterDataset.clip\u001b[0;34m(self, geometries, crs, all_touched, drop, invert, from_disk)\u001b[0m\n\u001b[1;32m    385\u001b[0m \u001b[38;5;28;01mtry\u001b[39;00m:\n\u001b[1;32m    386\u001b[0m     x_dim, y_dim \u001b[38;5;241m=\u001b[39m _get_spatial_dims(\u001b[38;5;28mself\u001b[39m\u001b[38;5;241m.\u001b[39m_obj, var)\n\u001b[1;32m    387\u001b[0m     clipped_dataset[var] \u001b[38;5;241m=\u001b[39m (\n\u001b[1;32m    388\u001b[0m         \u001b[38;5;28;43mself\u001b[39;49m\u001b[38;5;241;43m.\u001b[39;49m\u001b[43m_obj\u001b[49m\u001b[43m[\u001b[49m\u001b[43mvar\u001b[49m\u001b[43m]\u001b[49m\n\u001b[1;32m    389\u001b[0m \u001b[43m        \u001b[49m\u001b[38;5;241;43m.\u001b[39;49m\u001b[43mrio\u001b[49m\u001b[38;5;241;43m.\u001b[39;49m\u001b[43mset_spatial_dims\u001b[49m\u001b[43m(\u001b[49m\u001b[43mx_dim\u001b[49m\u001b[38;5;241;43m=\u001b[39;49m\u001b[43mx_dim\u001b[49m\u001b[43m,\u001b[49m\u001b[43m \u001b[49m\u001b[43my_dim\u001b[49m\u001b[38;5;241;43m=\u001b[39;49m\u001b[43my_dim\u001b[49m\u001b[43m,\u001b[49m\u001b[43m \u001b[49m\u001b[43minplace\u001b[49m\u001b[38;5;241;43m=\u001b[39;49m\u001b[38;5;28;43;01mTrue\u001b[39;49;00m\u001b[43m)\u001b[49m\n\u001b[0;32m--> 390\u001b[0m \u001b[43m        \u001b[49m\u001b[38;5;241;43m.\u001b[39;49m\u001b[43mrio\u001b[49m\u001b[38;5;241;43m.\u001b[39;49m\u001b[43mclip\u001b[49m\u001b[43m(\u001b[49m\n\u001b[1;32m    391\u001b[0m \u001b[43m            \u001b[49m\u001b[43mgeometries\u001b[49m\u001b[43m,\u001b[49m\n\u001b[1;32m    392\u001b[0m \u001b[43m            \u001b[49m\u001b[43mcrs\u001b[49m\u001b[38;5;241;43m=\u001b[39;49m\u001b[43mcrs\u001b[49m\u001b[43m,\u001b[49m\n\u001b[1;32m    393\u001b[0m \u001b[43m            \u001b[49m\u001b[43mall_touched\u001b[49m\u001b[38;5;241;43m=\u001b[39;49m\u001b[43mall_touched\u001b[49m\u001b[43m,\u001b[49m\n\u001b[1;32m    394\u001b[0m \u001b[43m            \u001b[49m\u001b[43mdrop\u001b[49m\u001b[38;5;241;43m=\u001b[39;49m\u001b[43mdrop\u001b[49m\u001b[43m,\u001b[49m\n\u001b[1;32m    395\u001b[0m \u001b[43m            \u001b[49m\u001b[43minvert\u001b[49m\u001b[38;5;241;43m=\u001b[39;49m\u001b[43minvert\u001b[49m\u001b[43m,\u001b[49m\n\u001b[1;32m    396\u001b[0m \u001b[43m            \u001b[49m\u001b[43mfrom_disk\u001b[49m\u001b[38;5;241;43m=\u001b[39;49m\u001b[43mfrom_disk\u001b[49m\u001b[43m,\u001b[49m\n\u001b[1;32m    397\u001b[0m \u001b[43m        \u001b[49m\u001b[43m)\u001b[49m\n\u001b[1;32m    398\u001b[0m     )\n\u001b[1;32m    399\u001b[0m \u001b[38;5;28;01mexcept\u001b[39;00m MissingSpatialDimensionError:\n\u001b[1;32m    400\u001b[0m     \u001b[38;5;28;01mif\u001b[39;00m \u001b[38;5;28mlen\u001b[39m(\u001b[38;5;28mself\u001b[39m\u001b[38;5;241m.\u001b[39m_obj[var]\u001b[38;5;241m.\u001b[39mdims) \u001b[38;5;241m>\u001b[39m\u001b[38;5;241m=\u001b[39m \u001b[38;5;241m2\u001b[39m \u001b[38;5;129;01mand\u001b[39;00m \u001b[38;5;129;01mnot\u001b[39;00m get_option(\n\u001b[1;32m    401\u001b[0m         SKIP_MISSING_SPATIAL_DIMS\n\u001b[1;32m    402\u001b[0m     ):\n",
      "File \u001b[0;32m/opt/conda/envs/geog213-final/lib/python3.13/site-packages/rioxarray/raster_array.py:933\u001b[0m, in \u001b[0;36mRasterArray.clip\u001b[0;34m(self, geometries, crs, all_touched, drop, invert, from_disk)\u001b[0m\n\u001b[1;32m    921\u001b[0m     cropped_ds \u001b[38;5;241m=\u001b[39m _clip_xarray(\n\u001b[1;32m    922\u001b[0m         \u001b[38;5;28mself\u001b[39m\u001b[38;5;241m.\u001b[39m_obj,\n\u001b[1;32m    923\u001b[0m         geometries\u001b[38;5;241m=\u001b[39mgeometries,\n\u001b[0;32m   (...)\u001b[0m\n\u001b[1;32m    926\u001b[0m         invert\u001b[38;5;241m=\u001b[39minvert,\n\u001b[1;32m    927\u001b[0m     )\n\u001b[1;32m    929\u001b[0m \u001b[38;5;28;01mif\u001b[39;00m (\n\u001b[1;32m    930\u001b[0m     cropped_ds\u001b[38;5;241m.\u001b[39mcoords[\u001b[38;5;28mself\u001b[39m\u001b[38;5;241m.\u001b[39mx_dim]\u001b[38;5;241m.\u001b[39msize \u001b[38;5;241m<\u001b[39m \u001b[38;5;241m1\u001b[39m\n\u001b[1;32m    931\u001b[0m     \u001b[38;5;129;01mor\u001b[39;00m cropped_ds\u001b[38;5;241m.\u001b[39mcoords[\u001b[38;5;28mself\u001b[39m\u001b[38;5;241m.\u001b[39my_dim]\u001b[38;5;241m.\u001b[39msize \u001b[38;5;241m<\u001b[39m \u001b[38;5;241m1\u001b[39m\n\u001b[1;32m    932\u001b[0m ):\n\u001b[0;32m--> 933\u001b[0m     \u001b[38;5;28;01mraise\u001b[39;00m NoDataInBounds(\n\u001b[1;32m    934\u001b[0m         \u001b[38;5;124mf\u001b[39m\u001b[38;5;124m\"\u001b[39m\u001b[38;5;124mNo data found in bounds.\u001b[39m\u001b[38;5;132;01m{\u001b[39;00m_get_data_var_message(\u001b[38;5;28mself\u001b[39m\u001b[38;5;241m.\u001b[39m_obj)\u001b[38;5;132;01m}\u001b[39;00m\u001b[38;5;124m\"\u001b[39m\n\u001b[1;32m    935\u001b[0m     )\n\u001b[1;32m    937\u001b[0m \u001b[38;5;66;03m# make sure correct attributes preserved & projection added\u001b[39;00m\n\u001b[1;32m    938\u001b[0m _add_attrs_proj(cropped_ds, \u001b[38;5;28mself\u001b[39m\u001b[38;5;241m.\u001b[39m_obj)\n",
      "\u001b[0;31mNoDataInBounds\u001b[0m: No data found in bounds. Data variable: nir"
     ]
    }
   ],
   "source": [
    "mosaic_nir.nir.rio.to_raster(\"nir_mosaic.tif\")\n",
    "mosaic_nir = mosaic_nir.rio.clip(bbox_geometry, crs=4326)"
   ]
  },
  {
   "cell_type": "code",
   "execution_count": null,
   "metadata": {},
   "outputs": [],
   "source": [
    "mosaic_swir.swir.rio.to_raster(\"swir_mosaic.tif\")\n",
    "mosaic_swir = mosaic_swir.rio.clip(bbox, crs=4326"
   ]
  }
 ],
 "metadata": {
  "kernelspec": {
   "display_name": "Python 3 (ipykernel)",
   "language": "python",
   "name": "python3"
  },
  "language_info": {
   "codemirror_mode": {
    "name": "ipython",
    "version": 3
   },
   "file_extension": ".py",
   "mimetype": "text/x-python",
   "name": "python",
   "nbconvert_exporter": "python",
   "pygments_lexer": "ipython3",
   "version": "3.13.1"
  }
 },
 "nbformat": 4,
 "nbformat_minor": 4
}
